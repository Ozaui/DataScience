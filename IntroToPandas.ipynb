{
 "cells": [
  {
   "cell_type": "code",
   "execution_count": 1,
   "id": "d410b79c-7f5b-49e9-b808-aa12c390c064",
   "metadata": {},
   "outputs": [],
   "source": [
    "import numpy as np\n",
    "import pandas as pd"
   ]
  },
  {
   "cell_type": "code",
   "execution_count": 5,
   "id": "6132776d-63b6-4a88-b59b-6163d39bad2a",
   "metadata": {},
   "outputs": [],
   "source": [
    "grades = {\"Özay\": 50, \"Merve\": 60, \"İlkim\": 30}\n",
    "names = [\"Özay\", \"Merve\", \"İlkim\"]"
   ]
  },
  {
   "cell_type": "code",
   "execution_count": 6,
   "id": "f391d225-c885-4430-84f6-eaeb7405d0c9",
   "metadata": {},
   "outputs": [
    {
     "data": {
      "text/plain": [
       "Özay     50\n",
       "Merve    60\n",
       "İlkim    30\n",
       "dtype: int64"
      ]
     },
     "execution_count": 6,
     "metadata": {},
     "output_type": "execute_result"
    }
   ],
   "source": [
    "pd.Series(grades)"
   ]
  },
  {
   "cell_type": "code",
   "execution_count": 7,
   "id": "1561f0a4-f0cf-46cb-ac41-86320aa5e090",
   "metadata": {},
   "outputs": [
    {
     "data": {
      "text/plain": [
       "Özay     50\n",
       "Merve    60\n",
       "İlkim    30\n",
       "dtype: int64"
      ]
     },
     "execution_count": 7,
     "metadata": {},
     "output_type": "execute_result"
    }
   ],
   "source": [
    "pd.Series(data = grades, index = names)"
   ]
  },
  {
   "cell_type": "code",
   "execution_count": 8,
   "id": "47036160-cddf-4fbd-a84b-de0166a44f81",
   "metadata": {},
   "outputs": [],
   "source": [
    "# with numpy"
   ]
  },
  {
   "cell_type": "code",
   "execution_count": 9,
   "id": "f22cc368-00a2-4273-9b33-d9c6437b16dd",
   "metadata": {},
   "outputs": [],
   "source": [
    "numpy_array = np.array([50,40,30,20])"
   ]
  },
  {
   "cell_type": "code",
   "execution_count": 10,
   "id": "8f998be4-8d2a-40b8-9d95-e6c965a3d1ee",
   "metadata": {},
   "outputs": [
    {
     "data": {
      "text/plain": [
       "0    50\n",
       "1    40\n",
       "2    30\n",
       "3    20\n",
       "dtype: int64"
      ]
     },
     "execution_count": 10,
     "metadata": {},
     "output_type": "execute_result"
    }
   ],
   "source": [
    "pd.Series(numpy_array)"
   ]
  },
  {
   "cell_type": "code",
   "execution_count": 11,
   "id": "8f5cd726-4694-4ec2-9a0f-28922ee1a8cd",
   "metadata": {},
   "outputs": [],
   "source": [
    "# Aritmatic"
   ]
  },
  {
   "cell_type": "code",
   "execution_count": 12,
   "id": "43369bba-eb65-4e17-aa5c-234029d94158",
   "metadata": {},
   "outputs": [],
   "source": [
    "contest_result = pd.Series(data = [10,5,100], index = [\"Özay\", \"Merve\", \"İlkim\"])"
   ]
  },
  {
   "cell_type": "code",
   "execution_count": 13,
   "id": "926327f4-5ab1-4e00-ae9b-379f5242934f",
   "metadata": {},
   "outputs": [
    {
     "data": {
      "text/plain": [
       "Özay      10\n",
       "Merve      5\n",
       "İlkim    100\n",
       "dtype: int64"
      ]
     },
     "execution_count": 13,
     "metadata": {},
     "output_type": "execute_result"
    }
   ],
   "source": [
    "contest_result"
   ]
  },
  {
   "cell_type": "code",
   "execution_count": 14,
   "id": "58404b84-fb09-4902-b68f-7cee1dd0b0d0",
   "metadata": {},
   "outputs": [
    {
     "data": {
      "text/plain": [
       "np.int64(5)"
      ]
     },
     "execution_count": 14,
     "metadata": {},
     "output_type": "execute_result"
    }
   ],
   "source": [
    "contest_result[\"Merve\"]"
   ]
  },
  {
   "cell_type": "code",
   "execution_count": 15,
   "id": "9484c26e-23ef-4c81-b084-fb2eaadbfda7",
   "metadata": {},
   "outputs": [
    {
     "data": {
      "text/plain": [
       "np.int64(100)"
      ]
     },
     "execution_count": 15,
     "metadata": {},
     "output_type": "execute_result"
    }
   ],
   "source": [
    "contest_result[\"İlkim\"]"
   ]
  },
  {
   "cell_type": "code",
   "execution_count": 19,
   "id": "c7d40339-9626-437f-9128-1116e6b70653",
   "metadata": {},
   "outputs": [
    {
     "data": {
      "text/plain": [
       "np.int64(15)"
      ]
     },
     "execution_count": 19,
     "metadata": {},
     "output_type": "execute_result"
    }
   ],
   "source": [
    "final_result = contest_result[\"Merve\"] + contest_result[\"Özay\"]\n",
    "final_result"
   ]
  },
  {
   "cell_type": "code",
   "execution_count": 22,
   "id": "1a3de69b-5efa-4798-a3c3-04b33e7b28f1",
   "metadata": {},
   "outputs": [
    {
     "data": {
      "text/plain": [
       "np.int64(15)"
      ]
     },
     "execution_count": 22,
     "metadata": {},
     "output_type": "execute_result"
    }
   ],
   "source": [
    "final_result = contest_result.iloc[1] + contest_result.iloc[0]\n",
    "final_result"
   ]
  },
  {
   "cell_type": "code",
   "execution_count": 29,
   "id": "b65fb488-d83a-4a22-b0cf-eea40eff3935",
   "metadata": {},
   "outputs": [],
   "source": [
    "contest_result2 = pd.Series(data = [20,10,200], index = [\"Özay\", \"Merve\", \"İlkim\"])\n",
    "difrent_series = pd.Series(data = [30,40,50], index = [\"A\", \"Merve\", \"C\"])"
   ]
  },
  {
   "cell_type": "code",
   "execution_count": 30,
   "id": "aaa186c4-43a3-4967-ad6a-f07c2576bf64",
   "metadata": {},
   "outputs": [
    {
     "data": {
      "text/plain": [
       "Özay      30\n",
       "Merve     15\n",
       "İlkim    300\n",
       "dtype: int64"
      ]
     },
     "execution_count": 30,
     "metadata": {},
     "output_type": "execute_result"
    }
   ],
   "source": [
    "final_result2 = contest_result + contest_result2\n",
    "final_result2"
   ]
  },
  {
   "cell_type": "code",
   "execution_count": 31,
   "id": "3c031f11-7681-49b5-8b45-da8e46d58e2d",
   "metadata": {},
   "outputs": [],
   "source": [
    "final_result3 = contest_result + difrent_series"
   ]
  },
  {
   "cell_type": "code",
   "execution_count": 32,
   "id": "a4107fce-eb65-4f3f-939c-b6f4f09b4d15",
   "metadata": {},
   "outputs": [
    {
     "data": {
      "text/plain": [
       "A         NaN\n",
       "C         NaN\n",
       "Merve    45.0\n",
       "Özay      NaN\n",
       "İlkim     NaN\n",
       "dtype: float64"
      ]
     },
     "execution_count": 32,
     "metadata": {},
     "output_type": "execute_result"
    }
   ],
   "source": [
    "final_result3"
   ]
  },
  {
   "cell_type": "code",
   "execution_count": null,
   "id": "f49af7f2-c1f8-4ae9-a7c5-8c541e74720a",
   "metadata": {},
   "outputs": [],
   "source": []
  }
 ],
 "metadata": {
  "kernelspec": {
   "display_name": "Python [conda env:base] *",
   "language": "python",
   "name": "conda-base-py"
  },
  "language_info": {
   "codemirror_mode": {
    "name": "ipython",
    "version": 3
   },
   "file_extension": ".py",
   "mimetype": "text/x-python",
   "name": "python",
   "nbconvert_exporter": "python",
   "pygments_lexer": "ipython3",
   "version": "3.13.5"
  }
 },
 "nbformat": 4,
 "nbformat_minor": 5
}
