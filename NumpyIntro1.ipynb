{
 "cells": [
  {
   "cell_type": "code",
   "execution_count": 2,
   "id": "3e7c2fe8-d3b5-4692-862a-ee281301d4d2",
   "metadata": {},
   "outputs": [],
   "source": [
    "import numpy as np"
   ]
  },
  {
   "cell_type": "code",
   "execution_count": 4,
   "id": "49d800cd-39df-47b6-ae32-7dbdc381fb83",
   "metadata": {},
   "outputs": [],
   "source": [
    "my_list = [10,20,30,40]"
   ]
  },
  {
   "cell_type": "code",
   "execution_count": 5,
   "id": "9ab3a975-ae57-484d-abc6-c8685c84b635",
   "metadata": {},
   "outputs": [
    {
     "data": {
      "text/plain": [
       "list"
      ]
     },
     "execution_count": 5,
     "metadata": {},
     "output_type": "execute_result"
    }
   ],
   "source": [
    "type(my_list)"
   ]
  },
  {
   "cell_type": "code",
   "execution_count": 7,
   "id": "43fb5bce-4a1e-4184-ba32-b95a05a7c9b8",
   "metadata": {},
   "outputs": [],
   "source": [
    "my_numpy_array = np.array(my_list)"
   ]
  },
  {
   "cell_type": "code",
   "execution_count": 8,
   "id": "c5d776a6-dea8-4cb3-a47c-102bd72700f8",
   "metadata": {},
   "outputs": [
    {
     "data": {
      "text/plain": [
       "numpy.ndarray"
      ]
     },
     "execution_count": 8,
     "metadata": {},
     "output_type": "execute_result"
    }
   ],
   "source": [
    "type(my_list_array)"
   ]
  },
  {
   "cell_type": "code",
   "execution_count": 9,
   "id": "a2f567c2-0a0f-48c9-84a2-12e96f47bcf3",
   "metadata": {},
   "outputs": [
    {
     "data": {
      "text/plain": [
       "array([1., 1., 1., 1., 1.])"
      ]
     },
     "execution_count": 9,
     "metadata": {},
     "output_type": "execute_result"
    }
   ],
   "source": [
    "np.ones(5)"
   ]
  },
  {
   "cell_type": "code",
   "execution_count": 10,
   "id": "9e07c83b-e3b4-4ef9-81b4-970be238b64d",
   "metadata": {},
   "outputs": [
    {
     "data": {
      "text/plain": [
       "array([0., 0., 0., 0., 0.])"
      ]
     },
     "execution_count": 10,
     "metadata": {},
     "output_type": "execute_result"
    }
   ],
   "source": [
    "np.zeros(5)"
   ]
  },
  {
   "cell_type": "code",
   "execution_count": 11,
   "id": "a9ebbebd-aa8b-43f0-8613-d259b4fe6091",
   "metadata": {},
   "outputs": [
    {
     "data": {
      "text/plain": [
       "array([0.20055981, 0.04677546, 0.28292734, 0.81890643, 0.84270225])"
      ]
     },
     "execution_count": 11,
     "metadata": {},
     "output_type": "execute_result"
    }
   ],
   "source": [
    "np.random.random(5)"
   ]
  },
  {
   "cell_type": "code",
   "execution_count": 12,
   "id": "bb1b5180-8dc1-433a-bc03-225000d3e4b6",
   "metadata": {},
   "outputs": [],
   "source": [
    "# Array aritmatic"
   ]
  },
  {
   "cell_type": "code",
   "execution_count": 13,
   "id": "7a28092e-003f-400c-8023-e4516e2cc43c",
   "metadata": {},
   "outputs": [],
   "source": [
    "my_list1 = [1,2]"
   ]
  },
  {
   "cell_type": "code",
   "execution_count": 14,
   "id": "8c3218f0-1c23-414c-982f-a7562373dc40",
   "metadata": {},
   "outputs": [],
   "source": [
    "my_list2 = [2,3]"
   ]
  },
  {
   "cell_type": "code",
   "execution_count": 63,
   "id": "ce102e49-a126-4a2e-beaf-cfaecd65a619",
   "metadata": {},
   "outputs": [
    {
     "ename": "TypeError",
     "evalue": "unsupported operand type(s) for ** or pow(): 'list' and 'int'",
     "output_type": "error",
     "traceback": [
      "\u001b[0;31m---------------------------------------------------------------------------\u001b[0m",
      "\u001b[0;31mTypeError\u001b[0m                                 Traceback (most recent call last)",
      "Cell \u001b[0;32mIn[63], line 1\u001b[0m\n\u001b[0;32m----> 1\u001b[0m my_list1 \u001b[38;5;241m*\u001b[39m\u001b[38;5;241m*\u001b[39m \u001b[38;5;241m5\u001b[39m\n",
      "\u001b[0;31mTypeError\u001b[0m: unsupported operand type(s) for ** or pow(): 'list' and 'int'"
     ]
    }
   ],
   "source": [
    "my_list1 ** 5 "
   ]
  },
  {
   "cell_type": "code",
   "execution_count": 23,
   "id": "8ffd0585-04b3-478e-b0c5-a04b71b31e55",
   "metadata": {},
   "outputs": [
    {
     "data": {
      "text/plain": [
       "[1, 2, 2, 3]"
      ]
     },
     "execution_count": 23,
     "metadata": {},
     "output_type": "execute_result"
    }
   ],
   "source": [
    "my_list1 + my_list2"
   ]
  },
  {
   "cell_type": "code",
   "execution_count": 24,
   "id": "f24bafac-9a10-4a02-9e5b-a057e7ce9158",
   "metadata": {},
   "outputs": [
    {
     "ename": "TypeError",
     "evalue": "unsupported operand type(s) for -: 'list' and 'list'",
     "output_type": "error",
     "traceback": [
      "\u001b[0;31m---------------------------------------------------------------------------\u001b[0m",
      "\u001b[0;31mTypeError\u001b[0m                                 Traceback (most recent call last)",
      "Cell \u001b[0;32mIn[24], line 1\u001b[0m\n\u001b[0;32m----> 1\u001b[0m my_list1 \u001b[38;5;241m-\u001b[39m my_list2\n",
      "\u001b[0;31mTypeError\u001b[0m: unsupported operand type(s) for -: 'list' and 'list'"
     ]
    }
   ],
   "source": [
    "my_list1 - my_list2"
   ]
  },
  {
   "cell_type": "code",
   "execution_count": 25,
   "id": "92e83e0f-888f-4ee5-b8f0-55fd31c10e8f",
   "metadata": {},
   "outputs": [
    {
     "ename": "TypeError",
     "evalue": "unsupported operand type(s) for /: 'list' and 'list'",
     "output_type": "error",
     "traceback": [
      "\u001b[0;31m---------------------------------------------------------------------------\u001b[0m",
      "\u001b[0;31mTypeError\u001b[0m                                 Traceback (most recent call last)",
      "Cell \u001b[0;32mIn[25], line 1\u001b[0m\n\u001b[0;32m----> 1\u001b[0m my_list1 \u001b[38;5;241m/\u001b[39m my_list2\n",
      "\u001b[0;31mTypeError\u001b[0m: unsupported operand type(s) for /: 'list' and 'list'"
     ]
    }
   ],
   "source": [
    "my_list1 / my_list2"
   ]
  },
  {
   "cell_type": "code",
   "execution_count": 26,
   "id": "050fdf0f-da74-475e-8cf1-5df051f3d4b9",
   "metadata": {},
   "outputs": [
    {
     "ename": "TypeError",
     "evalue": "can't multiply sequence by non-int of type 'list'",
     "output_type": "error",
     "traceback": [
      "\u001b[0;31m---------------------------------------------------------------------------\u001b[0m",
      "\u001b[0;31mTypeError\u001b[0m                                 Traceback (most recent call last)",
      "Cell \u001b[0;32mIn[26], line 1\u001b[0m\n\u001b[0;32m----> 1\u001b[0m my_list1 \u001b[38;5;241m*\u001b[39m my_list2\n",
      "\u001b[0;31mTypeError\u001b[0m: can't multiply sequence by non-int of type 'list'"
     ]
    }
   ],
   "source": [
    "my_list1 * my_list2"
   ]
  },
  {
   "cell_type": "code",
   "execution_count": 27,
   "id": "b9f29acf-43ba-48cb-a352-7d79845c3501",
   "metadata": {},
   "outputs": [
    {
     "data": {
      "text/plain": [
       "[1, 2, 1, 2, 1, 2, 1, 2, 1, 2]"
      ]
     },
     "execution_count": 27,
     "metadata": {},
     "output_type": "execute_result"
    }
   ],
   "source": [
    "my_list1 * 5"
   ]
  },
  {
   "cell_type": "code",
   "execution_count": 17,
   "id": "9153b105-7e62-4cc0-88be-25a474446c38",
   "metadata": {},
   "outputs": [],
   "source": [
    "my_numpy_array1 = np.array(my_list1)"
   ]
  },
  {
   "cell_type": "code",
   "execution_count": 18,
   "id": "b205c140-82ac-4f42-b2fe-f8db94b49ce4",
   "metadata": {},
   "outputs": [],
   "source": [
    "my_numpy_array2 = np.array(my_list2)"
   ]
  },
  {
   "cell_type": "code",
   "execution_count": 19,
   "id": "2e4cc884-ba79-455f-9168-03c7eef0f7b4",
   "metadata": {},
   "outputs": [
    {
     "data": {
      "text/plain": [
       "array([3, 5])"
      ]
     },
     "execution_count": 19,
     "metadata": {},
     "output_type": "execute_result"
    }
   ],
   "source": [
    "my_numpy_array1 + my_numpy_array2"
   ]
  },
  {
   "cell_type": "code",
   "execution_count": 20,
   "id": "48ac550d-b831-482b-bbce-946e037a5c88",
   "metadata": {},
   "outputs": [
    {
     "data": {
      "text/plain": [
       "array([-1, -1])"
      ]
     },
     "execution_count": 20,
     "metadata": {},
     "output_type": "execute_result"
    }
   ],
   "source": [
    "my_numpy_array1 - my_numpy_array2"
   ]
  },
  {
   "cell_type": "code",
   "execution_count": 21,
   "id": "3fa111d8-0e59-4c45-9fc4-47ff9880e3c5",
   "metadata": {},
   "outputs": [
    {
     "data": {
      "text/plain": [
       "array([0.5       , 0.66666667])"
      ]
     },
     "execution_count": 21,
     "metadata": {},
     "output_type": "execute_result"
    }
   ],
   "source": [
    "my_numpy_array1 / my_numpy_array2"
   ]
  },
  {
   "cell_type": "code",
   "execution_count": 22,
   "id": "3f774743-6aa7-4f33-89cb-6babab822a93",
   "metadata": {},
   "outputs": [
    {
     "data": {
      "text/plain": [
       "array([2, 6])"
      ]
     },
     "execution_count": 22,
     "metadata": {},
     "output_type": "execute_result"
    }
   ],
   "source": [
    "my_numpy_array1 * my_numpy_array2"
   ]
  },
  {
   "cell_type": "code",
   "execution_count": 28,
   "id": "1486e0ec-c8d5-4b0a-9d7d-443b7c5e4718",
   "metadata": {},
   "outputs": [
    {
     "data": {
      "text/plain": [
       "array([ 5, 10])"
      ]
     },
     "execution_count": 28,
     "metadata": {},
     "output_type": "execute_result"
    }
   ],
   "source": [
    "my_numpy_array1 * 5"
   ]
  },
  {
   "cell_type": "code",
   "execution_count": 62,
   "id": "9051958d-b254-4394-8eb1-b758a9fb5878",
   "metadata": {},
   "outputs": [
    {
     "data": {
      "text/plain": [
       "array([ 1, 32])"
      ]
     },
     "execution_count": 62,
     "metadata": {},
     "output_type": "execute_result"
    }
   ],
   "source": [
    "my_numpy_array1 ** 5"
   ]
  },
  {
   "cell_type": "code",
   "execution_count": 29,
   "id": "3be2963b-e82f-4263-8246-812ef696d9d2",
   "metadata": {},
   "outputs": [],
   "source": [
    "other_array = np.array([10,20,30,40,50])"
   ]
  },
  {
   "cell_type": "code",
   "execution_count": 31,
   "id": "a5e09a19-cffb-40d2-b456-6924ffca5937",
   "metadata": {},
   "outputs": [
    {
     "ename": "ValueError",
     "evalue": "operands could not be broadcast together with shapes (2,) (5,) ",
     "output_type": "error",
     "traceback": [
      "\u001b[0;31m---------------------------------------------------------------------------\u001b[0m",
      "\u001b[0;31mValueError\u001b[0m                                Traceback (most recent call last)",
      "Cell \u001b[0;32mIn[31], line 2\u001b[0m\n\u001b[1;32m      1\u001b[0m \u001b[38;5;66;03m# Boyutları farklı olduğundan toplayamayız\u001b[39;00m\n\u001b[0;32m----> 2\u001b[0m my_numpy_array1 \u001b[38;5;241m+\u001b[39m other_array\n",
      "\u001b[0;31mValueError\u001b[0m: operands could not be broadcast together with shapes (2,) (5,) "
     ]
    }
   ],
   "source": [
    "# Boyutları farklı olduğundan toplayamayız\n",
    "my_numpy_array1 + other_array"
   ]
  },
  {
   "cell_type": "code",
   "execution_count": 32,
   "id": "c342ef1a-03b2-4cb4-8eff-b3e9ff532744",
   "metadata": {},
   "outputs": [],
   "source": [
    "##### INDEXING"
   ]
  },
  {
   "cell_type": "code",
   "execution_count": 34,
   "id": "e00626c4-3194-4f4e-82c5-e2b7667b1b75",
   "metadata": {},
   "outputs": [
    {
     "data": {
      "text/plain": [
       "[0, 1, 2, 3, 4, 5, 6, 7, 8, 9]"
      ]
     },
     "execution_count": 34,
     "metadata": {},
     "output_type": "execute_result"
    }
   ],
   "source": [
    "list(range(0,10))"
   ]
  },
  {
   "cell_type": "code",
   "execution_count": 35,
   "id": "3d01e8da-c8c8-489e-a484-9928ddbbd4bc",
   "metadata": {},
   "outputs": [
    {
     "data": {
      "text/plain": [
       "array([0, 1, 2, 3, 4, 5, 6, 7, 8, 9])"
      ]
     },
     "execution_count": 35,
     "metadata": {},
     "output_type": "execute_result"
    }
   ],
   "source": [
    "np.arange(0,10)"
   ]
  },
  {
   "cell_type": "code",
   "execution_count": 36,
   "id": "7852b78c-0655-4bd9-b4e5-f7ff195209eb",
   "metadata": {},
   "outputs": [
    {
     "data": {
      "text/plain": [
       "array([ 0,  2,  4,  6,  8, 10, 12, 14, 16, 18])"
      ]
     },
     "execution_count": 36,
     "metadata": {},
     "output_type": "execute_result"
    }
   ],
   "source": [
    "np.arange(0,20,2)"
   ]
  },
  {
   "cell_type": "code",
   "execution_count": 69,
   "id": "fd19b84a-3628-43b1-8fa5-8977c35d360c",
   "metadata": {},
   "outputs": [
    {
     "data": {
      "text/plain": [
       "array([0, 1, 2, 3, 4, 5, 6, 7, 8, 9])"
      ]
     },
     "execution_count": 69,
     "metadata": {},
     "output_type": "execute_result"
    }
   ],
   "source": [
    "np_array = np.arange(0,10)\n",
    "np_array"
   ]
  },
  {
   "cell_type": "code",
   "execution_count": 39,
   "id": "29105976-7843-4b95-abd3-0362813ba6db",
   "metadata": {},
   "outputs": [
    {
     "data": {
      "text/plain": [
       "np.int64(0)"
      ]
     },
     "execution_count": 39,
     "metadata": {},
     "output_type": "execute_result"
    }
   ],
   "source": [
    "np_array[0]"
   ]
  },
  {
   "cell_type": "code",
   "execution_count": 40,
   "id": "e1b29a09-45e4-4b0c-9d90-1624adde7ffa",
   "metadata": {},
   "outputs": [
    {
     "data": {
      "text/plain": [
       "np.int64(9)"
      ]
     },
     "execution_count": 40,
     "metadata": {},
     "output_type": "execute_result"
    }
   ],
   "source": [
    "np_array[-1]"
   ]
  },
  {
   "cell_type": "code",
   "execution_count": 41,
   "id": "dfbd9eea-2154-4a0a-928b-cf10b56a08a7",
   "metadata": {},
   "outputs": [
    {
     "data": {
      "text/plain": [
       "array([1, 2, 3])"
      ]
     },
     "execution_count": 41,
     "metadata": {},
     "output_type": "execute_result"
    }
   ],
   "source": [
    "np_array[1:4:]"
   ]
  },
  {
   "cell_type": "code",
   "execution_count": 42,
   "id": "0a62a34e-18e2-4707-8c4e-52bcfed8f763",
   "metadata": {},
   "outputs": [
    {
     "data": {
      "text/plain": [
       "array([9, 8, 7, 6, 5, 4, 3, 2, 1, 0])"
      ]
     },
     "execution_count": 42,
     "metadata": {},
     "output_type": "execute_result"
    }
   ],
   "source": [
    "np_array[::-1]"
   ]
  },
  {
   "cell_type": "code",
   "execution_count": 53,
   "id": "7a34feac-1aae-47be-810d-76a3142f0f94",
   "metadata": {},
   "outputs": [
    {
     "data": {
      "text/plain": [
       "array([1.07984638, 0.62727355, 1.50278414, 1.31820486])"
      ]
     },
     "execution_count": 53,
     "metadata": {},
     "output_type": "execute_result"
    }
   ],
   "source": [
    "np.random.randn(4) # Normal dağılıma uygun veri üretir"
   ]
  },
  {
   "cell_type": "code",
   "execution_count": 56,
   "id": "a175ba6b-a578-4dc6-acaa-dc50e1c96115",
   "metadata": {},
   "outputs": [
    {
     "data": {
      "text/plain": [
       "array([[-0.43111854,  0.31678955, -0.19265125, -0.23629255],\n",
       "       [-0.27278416, -0.97864887, -0.14952057, -0.31711909],\n",
       "       [ 0.45199075, -0.50997716,  1.04216646,  0.15003614],\n",
       "       [-0.11222034, -0.81496028,  0.91469875,  0.15416191]])"
      ]
     },
     "execution_count": 56,
     "metadata": {},
     "output_type": "execute_result"
    }
   ],
   "source": [
    "np.random.randn(4,4)"
   ]
  },
  {
   "cell_type": "code",
   "execution_count": 57,
   "id": "49f1512b-5cf3-4f35-bda5-3bb9f9ee17b6",
   "metadata": {},
   "outputs": [
    {
     "data": {
      "text/plain": [
       "array([[-5.23981809e-01,  8.57680788e-01, -7.03384839e-01,\n",
       "        -1.52105417e-03],\n",
       "       [-1.25594992e+00, -9.19824595e-01,  6.37626230e-01,\n",
       "        -1.03877770e+00],\n",
       "       [ 2.62197220e+00, -7.69277263e-01,  1.29662654e-01,\n",
       "        -3.71609733e-01],\n",
       "       [-1.12960423e+00, -1.20120519e+00,  4.10660243e-01,\n",
       "         6.90897467e-02]])"
      ]
     },
     "execution_count": 57,
     "metadata": {},
     "output_type": "execute_result"
    }
   ],
   "source": [
    "np.random.randn(4,4)"
   ]
  },
  {
   "cell_type": "code",
   "execution_count": 47,
   "id": "c0660b4b-54e1-4e67-b4e0-e7a3cb397702",
   "metadata": {},
   "outputs": [
    {
     "data": {
      "text/plain": [
       "array([0.47493641, 0.93434467, 0.51968042, 0.76258697])"
      ]
     },
     "execution_count": 47,
     "metadata": {},
     "output_type": "execute_result"
    }
   ],
   "source": [
    "np.random.random(4) # 0 ile 1 arasında pozitif sayı üretir"
   ]
  },
  {
   "cell_type": "code",
   "execution_count": 59,
   "id": "8020346f-4849-405c-a853-506783ca465b",
   "metadata": {},
   "outputs": [
    {
     "data": {
      "text/plain": [
       "array([0.7409352 , 0.09811416, 0.34470551, 0.00705304])"
      ]
     },
     "execution_count": 59,
     "metadata": {},
     "output_type": "execute_result"
    }
   ],
   "source": [
    "np.random.random(4) "
   ]
  },
  {
   "cell_type": "code",
   "execution_count": 61,
   "id": "ab7cd7ca-62d2-4a30-82be-55a7ff92e9df",
   "metadata": {},
   "outputs": [
    {
     "data": {
      "text/plain": [
       "array([130, 240, 281, 133, 254])"
      ]
     },
     "execution_count": 61,
     "metadata": {},
     "output_type": "execute_result"
    }
   ],
   "source": [
    "np.random.randint(1,300,5) #den başlayıp 300e kadar giden 5 tane random sayı verir."
   ]
  },
  {
   "cell_type": "code",
   "execution_count": null,
   "id": "337acd9c-82e0-47ce-a945-d88f162b4238",
   "metadata": {},
   "outputs": [],
   "source": []
  }
 ],
 "metadata": {
  "kernelspec": {
   "display_name": "Python [conda env:base] *",
   "language": "python",
   "name": "conda-base-py"
  },
  "language_info": {
   "codemirror_mode": {
    "name": "ipython",
    "version": 3
   },
   "file_extension": ".py",
   "mimetype": "text/x-python",
   "name": "python",
   "nbconvert_exporter": "python",
   "pygments_lexer": "ipython3",
   "version": "3.13.5"
  }
 },
 "nbformat": 4,
 "nbformat_minor": 5
}
