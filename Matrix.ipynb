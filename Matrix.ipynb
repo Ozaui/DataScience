{
 "cells": [
  {
   "cell_type": "code",
   "execution_count": 1,
   "id": "33692bac-87f6-414c-a66e-3517b0090ef8",
   "metadata": {},
   "outputs": [],
   "source": [
    "import numpy as np"
   ]
  },
  {
   "cell_type": "code",
   "execution_count": 2,
   "id": "af03139e-33e2-4a3f-beb0-2dea4504b4ae",
   "metadata": {},
   "outputs": [],
   "source": [
    "my_matrix = [[5,10], [15,20]]"
   ]
  },
  {
   "cell_type": "code",
   "execution_count": 3,
   "id": "ea22a231-a16a-497d-8c79-44d53cfa41f2",
   "metadata": {},
   "outputs": [
    {
     "data": {
      "text/plain": [
       "[5, 10]"
      ]
     },
     "execution_count": 3,
     "metadata": {},
     "output_type": "execute_result"
    }
   ],
   "source": [
    "my_matrix[0]"
   ]
  },
  {
   "cell_type": "code",
   "execution_count": 4,
   "id": "8309abc5-6ee9-43ae-9ace-deb19fe77002",
   "metadata": {},
   "outputs": [
    {
     "data": {
      "text/plain": [
       "10"
      ]
     },
     "execution_count": 4,
     "metadata": {},
     "output_type": "execute_result"
    }
   ],
   "source": [
    "my_matrix[0][1]"
   ]
  },
  {
   "cell_type": "code",
   "execution_count": 8,
   "id": "83f8bbb4-77b9-40f2-9e50-9fceb3204f25",
   "metadata": {},
   "outputs": [
    {
     "data": {
      "text/plain": [
       "array([[ 5, 10],\n",
       "       [20, 30]])"
      ]
     },
     "execution_count": 8,
     "metadata": {},
     "output_type": "execute_result"
    }
   ],
   "source": [
    "np_matrix_2d = np.array([[5,10], [20,30]])\n",
    "np_matrix_2d                              "
   ]
  },
  {
   "cell_type": "code",
   "execution_count": 9,
   "id": "6f5467e0-9bdf-45b8-8763-1f93dabb98b7",
   "metadata": {},
   "outputs": [
    {
     "data": {
      "text/plain": [
       "np.int64(65)"
      ]
     },
     "execution_count": 9,
     "metadata": {},
     "output_type": "execute_result"
    }
   ],
   "source": [
    "np_matrix_2d.sum()"
   ]
  },
  {
   "cell_type": "code",
   "execution_count": 10,
   "id": "a9ce18d5-75c1-4e5b-9066-785e40cdfcea",
   "metadata": {},
   "outputs": [
    {
     "data": {
      "text/plain": [
       "array([[[1., 1.],\n",
       "        [1., 1.],\n",
       "        [1., 1.],\n",
       "        [1., 1.]],\n",
       "\n",
       "       [[1., 1.],\n",
       "        [1., 1.],\n",
       "        [1., 1.],\n",
       "        [1., 1.]],\n",
       "\n",
       "       [[1., 1.],\n",
       "        [1., 1.],\n",
       "        [1., 1.],\n",
       "        [1., 1.]]])"
      ]
     },
     "execution_count": 10,
     "metadata": {},
     "output_type": "execute_result"
    }
   ],
   "source": [
    "np.ones((3,4,2))"
   ]
  },
  {
   "cell_type": "code",
   "execution_count": 11,
   "id": "1e97c3ec-1d11-455e-8a9e-05a1a12d2c92",
   "metadata": {},
   "outputs": [
    {
     "data": {
      "text/plain": [
       "array([[0., 0.],\n",
       "       [0., 0.],\n",
       "       [0., 0.],\n",
       "       [0., 0.]])"
      ]
     },
     "execution_count": 11,
     "metadata": {},
     "output_type": "execute_result"
    }
   ],
   "source": [
    "np.zeros((4,2))"
   ]
  },
  {
   "cell_type": "code",
   "execution_count": 12,
   "id": "e4a280fa-17c9-402a-b34e-17c55137629d",
   "metadata": {},
   "outputs": [],
   "source": [
    "# Matrix Arithmetic"
   ]
  },
  {
   "cell_type": "code",
   "execution_count": 16,
   "id": "18c045b8-c85e-40a4-b7b8-384364ec843d",
   "metadata": {},
   "outputs": [],
   "source": [
    "first_array = np.array([[10,20], [30,40]])"
   ]
  },
  {
   "cell_type": "code",
   "execution_count": 14,
   "id": "a998d6fa-c4ab-4052-b3c4-283627dac6e3",
   "metadata": {},
   "outputs": [],
   "source": [
    "second_array = np.array([[5,15], [25,35]])"
   ]
  },
  {
   "cell_type": "code",
   "execution_count": 17,
   "id": "8a538bb8-a391-4c7b-ade4-f47c46e2acfa",
   "metadata": {},
   "outputs": [
    {
     "data": {
      "text/plain": [
       "array([[15, 35],\n",
       "       [55, 75]])"
      ]
     },
     "execution_count": 17,
     "metadata": {},
     "output_type": "execute_result"
    }
   ],
   "source": [
    "first_array + second_array"
   ]
  },
  {
   "cell_type": "code",
   "execution_count": 19,
   "id": "108114a0-068b-492b-9b09-58c448d8c6d9",
   "metadata": {},
   "outputs": [],
   "source": [
    "thirt_array = np.array([50,60])"
   ]
  },
  {
   "cell_type": "code",
   "execution_count": 20,
   "id": "132272a7-6ae1-4586-bcca-0a0c6734ec6e",
   "metadata": {},
   "outputs": [
    {
     "data": {
      "text/plain": [
       "array([[ 60,  80],\n",
       "       [ 80, 100]])"
      ]
     },
     "execution_count": 20,
     "metadata": {},
     "output_type": "execute_result"
    }
   ],
   "source": [
    "firt_array + thirt_array"
   ]
  },
  {
   "cell_type": "code",
   "execution_count": 21,
   "id": "ded10cc5-9bca-4a38-a9a8-18106d6a141c",
   "metadata": {},
   "outputs": [],
   "source": [
    "fourth_array = np.array([10,20,30,40,50])"
   ]
  },
  {
   "cell_type": "code",
   "execution_count": 22,
   "id": "31992349-612c-4ca0-b1f8-89a30b1248a7",
   "metadata": {},
   "outputs": [
    {
     "ename": "ValueError",
     "evalue": "operands could not be broadcast together with shapes (2,2) (5,) ",
     "output_type": "error",
     "traceback": [
      "\u001b[0;31m---------------------------------------------------------------------------\u001b[0m",
      "\u001b[0;31mValueError\u001b[0m                                Traceback (most recent call last)",
      "Cell \u001b[0;32mIn[22], line 1\u001b[0m\n\u001b[0;32m----> 1\u001b[0m first_array \u001b[38;5;241m+\u001b[39m fourth_array\n",
      "\u001b[0;31mValueError\u001b[0m: operands could not be broadcast together with shapes (2,2) (5,) "
     ]
    }
   ],
   "source": [
    "first_array + fourth_array"
   ]
  },
  {
   "cell_type": "code",
   "execution_count": 23,
   "id": "998d0956-623d-43f9-a3c9-3a04c7c98c91",
   "metadata": {},
   "outputs": [
    {
     "data": {
      "text/plain": [
       "array([[20, 40],\n",
       "       [60, 80]])"
      ]
     },
     "execution_count": 23,
     "metadata": {},
     "output_type": "execute_result"
    }
   ],
   "source": [
    "first_array * 2"
   ]
  },
  {
   "cell_type": "code",
   "execution_count": 25,
   "id": "2f9af81f-f1cb-49b5-b365-8c3bcfc7a418",
   "metadata": {},
   "outputs": [
    {
     "data": {
      "text/plain": [
       "array([[ 2.5,  5. ],\n",
       "       [ 7.5, 10. ]])"
      ]
     },
     "execution_count": 25,
     "metadata": {},
     "output_type": "execute_result"
    }
   ],
   "source": [
    "first_array / 4"
   ]
  },
  {
   "cell_type": "code",
   "execution_count": 26,
   "id": "23ea509e-36f4-40c3-86ba-03ebb854061d",
   "metadata": {},
   "outputs": [],
   "source": [
    "# Matrix multiplication"
   ]
  },
  {
   "cell_type": "code",
   "execution_count": 27,
   "id": "239ec0ea-4a6f-49e0-be86-516e1ef83c7b",
   "metadata": {},
   "outputs": [
    {
     "data": {
      "text/plain": [
       "array([[10, 20],\n",
       "       [30, 40]])"
      ]
     },
     "execution_count": 27,
     "metadata": {},
     "output_type": "execute_result"
    }
   ],
   "source": [
    "first_array"
   ]
  },
  {
   "cell_type": "code",
   "execution_count": 28,
   "id": "3b5de349-65a7-477f-bede-608a958dfa9e",
   "metadata": {},
   "outputs": [
    {
     "data": {
      "text/plain": [
       "array([[ 5, 15],\n",
       "       [25, 35]])"
      ]
     },
     "execution_count": 28,
     "metadata": {},
     "output_type": "execute_result"
    }
   ],
   "source": [
    "second_array"
   ]
  },
  {
   "cell_type": "code",
   "execution_count": 30,
   "id": "35d87639-8c6f-4d92-b4b9-bd8d868bdb8b",
   "metadata": {},
   "outputs": [
    {
     "data": {
      "text/plain": [
       "array([[  50,  300],\n",
       "       [ 750, 1400]])"
      ]
     },
     "execution_count": 30,
     "metadata": {},
     "output_type": "execute_result"
    }
   ],
   "source": [
    "first_array * second_array"
   ]
  },
  {
   "cell_type": "code",
   "execution_count": 31,
   "id": "0fbf5cf0-a2c5-4813-96e8-ce1f32427c19",
   "metadata": {},
   "outputs": [],
   "source": [
    "# Dot product"
   ]
  },
  {
   "cell_type": "code",
   "execution_count": 32,
   "id": "07dcadcd-76b7-48c4-9528-495020cc944d",
   "metadata": {},
   "outputs": [],
   "source": [
    "first_matrix = np.array([10,20,30])"
   ]
  },
  {
   "cell_type": "code",
   "execution_count": 33,
   "id": "bf30a3f5-bf19-437b-83c0-1475e6b4ad6d",
   "metadata": {},
   "outputs": [],
   "source": [
    "second_matrix = np.array([[2,3], [2,3], [2,3]])"
   ]
  },
  {
   "cell_type": "code",
   "execution_count": 34,
   "id": "e5822c9c-a717-4e1c-b05e-690a976a8143",
   "metadata": {},
   "outputs": [
    {
     "data": {
      "text/plain": [
       "array([120, 180])"
      ]
     },
     "execution_count": 34,
     "metadata": {},
     "output_type": "execute_result"
    }
   ],
   "source": [
    "first_matrix.dot(second_matrix)"
   ]
  },
  {
   "cell_type": "code",
   "execution_count": null,
   "id": "ae3884c0-03dc-48b0-b502-cc2c6f68543e",
   "metadata": {},
   "outputs": [],
   "source": []
  }
 ],
 "metadata": {
  "kernelspec": {
   "display_name": "Python [conda env:base] *",
   "language": "python",
   "name": "conda-base-py"
  },
  "language_info": {
   "codemirror_mode": {
    "name": "ipython",
    "version": 3
   },
   "file_extension": ".py",
   "mimetype": "text/x-python",
   "name": "python",
   "nbconvert_exporter": "python",
   "pygments_lexer": "ipython3",
   "version": "3.13.5"
  }
 },
 "nbformat": 4,
 "nbformat_minor": 5
}
