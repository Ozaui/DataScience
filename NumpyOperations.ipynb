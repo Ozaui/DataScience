{
 "cells": [
  {
   "cell_type": "code",
   "execution_count": 1,
   "id": "9d6b5063-661a-48d4-97c2-0285016371c2",
   "metadata": {},
   "outputs": [],
   "source": [
    "import numpy as np"
   ]
  },
  {
   "cell_type": "code",
   "execution_count": 28,
   "id": "0ac36a12-8213-4c79-98bd-2bbf399d4cfb",
   "metadata": {},
   "outputs": [],
   "source": [
    "new_array = np.random.randint(1,10,5)"
   ]
  },
  {
   "cell_type": "code",
   "execution_count": 29,
   "id": "7f776cb3-d56f-4702-834c-ef390916b66f",
   "metadata": {},
   "outputs": [
    {
     "data": {
      "text/plain": [
       "array([4, 9, 3, 6, 2])"
      ]
     },
     "execution_count": 29,
     "metadata": {},
     "output_type": "execute_result"
    }
   ],
   "source": [
    "new_array"
   ]
  },
  {
   "cell_type": "code",
   "execution_count": 31,
   "id": "40b9b1ab-1fbf-45af-a04a-9a9b94e7d3fd",
   "metadata": {},
   "outputs": [
    {
     "data": {
      "text/plain": [
       "array([False,  True, False,  True, False])"
      ]
     },
     "execution_count": 31,
     "metadata": {},
     "output_type": "execute_result"
    }
   ],
   "source": [
    "new_array > 5"
   ]
  },
  {
   "cell_type": "code",
   "execution_count": 5,
   "id": "edc39a4b-2314-4e22-b7a9-7122336bfda9",
   "metadata": {},
   "outputs": [
    {
     "data": {
      "text/plain": [
       "array([61, 55, 80, 42, 31, 42, 72, 93, 74, 98, 55, 93, 63, 29, 69, 79, 87])"
      ]
     },
     "execution_count": 5,
     "metadata": {},
     "output_type": "execute_result"
    }
   ],
   "source": [
    "new_array[new_array > 25]"
   ]
  },
  {
   "cell_type": "code",
   "execution_count": 6,
   "id": "5efcfc46-7fd9-44dc-93f0-c3bb2d55b18b",
   "metadata": {},
   "outputs": [
    {
     "data": {
      "text/plain": [
       "array([15, 16, 15])"
      ]
     },
     "execution_count": 6,
     "metadata": {},
     "output_type": "execute_result"
    }
   ],
   "source": [
    "new_array[new_array < 25]"
   ]
  },
  {
   "cell_type": "code",
   "execution_count": 8,
   "id": "1c9025bb-db0a-4b1d-9d26-b97d8b1eb379",
   "metadata": {},
   "outputs": [],
   "source": [
    "matrix_array = np.array([[10,20], [20,30], [30,40]])"
   ]
  },
  {
   "cell_type": "code",
   "execution_count": 11,
   "id": "10bed46c-00f7-47e7-9d23-25320af2142c",
   "metadata": {},
   "outputs": [
    {
     "data": {
      "text/plain": [
       "(3, 2)"
      ]
     },
     "execution_count": 11,
     "metadata": {},
     "output_type": "execute_result"
    }
   ],
   "source": [
    "matrix_array.shape"
   ]
  },
  {
   "cell_type": "code",
   "execution_count": 12,
   "id": "b50cc16b-9cca-4072-9514-99dce4c9e9c8",
   "metadata": {},
   "outputs": [
    {
     "data": {
      "text/plain": [
       "array([[10, 20, 30],\n",
       "       [20, 30, 40]])"
      ]
     },
     "execution_count": 12,
     "metadata": {},
     "output_type": "execute_result"
    }
   ],
   "source": [
    "matrix_array.transpose()"
   ]
  },
  {
   "cell_type": "code",
   "execution_count": 13,
   "id": "ee20dec3-38ed-4440-a3af-b33839d4b652",
   "metadata": {},
   "outputs": [
    {
     "data": {
      "text/plain": [
       "array([[10, 20, 30],\n",
       "       [20, 30, 40]])"
      ]
     },
     "execution_count": 13,
     "metadata": {},
     "output_type": "execute_result"
    }
   ],
   "source": [
    "matrix_array.T"
   ]
  },
  {
   "cell_type": "code",
   "execution_count": 14,
   "id": "c7c1250b-af62-46f8-bcd7-3e729db3ee59",
   "metadata": {},
   "outputs": [],
   "source": [
    "random_array = np.random.random((6,1))"
   ]
  },
  {
   "cell_type": "code",
   "execution_count": 15,
   "id": "536bc4a6-cd2b-4764-b933-630699c3ab83",
   "metadata": {},
   "outputs": [
    {
     "data": {
      "text/plain": [
       "array([[0.36894683],\n",
       "       [0.87635348],\n",
       "       [0.38514518],\n",
       "       [0.21442169],\n",
       "       [0.56360497],\n",
       "       [0.63600393]])"
      ]
     },
     "execution_count": 15,
     "metadata": {},
     "output_type": "execute_result"
    }
   ],
   "source": [
    "random_array"
   ]
  },
  {
   "cell_type": "code",
   "execution_count": 16,
   "id": "66e35fc7-4350-4988-ae68-980fa5891054",
   "metadata": {},
   "outputs": [
    {
     "data": {
      "text/plain": [
       "array([[0.36894683, 0.87635348, 0.38514518],\n",
       "       [0.21442169, 0.56360497, 0.63600393]])"
      ]
     },
     "execution_count": 16,
     "metadata": {},
     "output_type": "execute_result"
    }
   ],
   "source": [
    "random_array.reshape(2,3)"
   ]
  },
  {
   "cell_type": "code",
   "execution_count": 17,
   "id": "e53bd112-562c-47fc-bf86-293b7ca9022d",
   "metadata": {},
   "outputs": [
    {
     "data": {
      "text/plain": [
       "array([[0.36894683, 0.87635348],\n",
       "       [0.38514518, 0.21442169],\n",
       "       [0.56360497, 0.63600393]])"
      ]
     },
     "execution_count": 17,
     "metadata": {},
     "output_type": "execute_result"
    }
   ],
   "source": [
    "random_array.reshape(3,2)"
   ]
  },
  {
   "cell_type": "code",
   "execution_count": 18,
   "id": "aab6a523-73db-4d0f-a9be-b82a19145aab",
   "metadata": {},
   "outputs": [],
   "source": [
    "data = np.array([10,12,13,14,18,25,100,105])"
   ]
  },
  {
   "cell_type": "code",
   "execution_count": 19,
   "id": "16cffeab-c7eb-451c-bea0-ffe2d273746e",
   "metadata": {},
   "outputs": [],
   "source": [
    "# Outlier"
   ]
  },
  {
   "cell_type": "code",
   "execution_count": 21,
   "id": "af063cc5-522d-4135-b990-a5668b602907",
   "metadata": {},
   "outputs": [
    {
     "data": {
      "text/plain": [
       "np.float64(37.125)"
      ]
     },
     "execution_count": 21,
     "metadata": {},
     "output_type": "execute_result"
    }
   ],
   "source": [
    "mean = np.mean(data)\n",
    "mean"
   ]
  },
  {
   "cell_type": "code",
   "execution_count": 22,
   "id": "91c2a313-bdf3-4ebe-b499-ce8bd01248a3",
   "metadata": {},
   "outputs": [],
   "source": [
    "# 2x + 3y = 8, 5x + 7y = 19"
   ]
  },
  {
   "cell_type": "code",
   "execution_count": 24,
   "id": "fb4a2d00-e863-44bc-8792-e2db2240ec4d",
   "metadata": {},
   "outputs": [],
   "source": [
    "A = np.array([[2,3], [5,7]])"
   ]
  },
  {
   "cell_type": "code",
   "execution_count": 25,
   "id": "c2020be7-9c47-4dd5-91ce-90d8ddbaf368",
   "metadata": {},
   "outputs": [],
   "source": [
    "b = np.array([8,19])"
   ]
  },
  {
   "cell_type": "code",
   "execution_count": 27,
   "id": "b2d339bd-950a-4004-b699-b1922a3885e2",
   "metadata": {},
   "outputs": [
    {
     "data": {
      "text/plain": [
       "array([1., 2.])"
      ]
     },
     "execution_count": 27,
     "metadata": {},
     "output_type": "execute_result"
    }
   ],
   "source": [
    "solution = np.linalg.solve(A,b)\n",
    "solution"
   ]
  },
  {
   "cell_type": "code",
   "execution_count": null,
   "id": "7888f145-8658-45d9-ab86-8217e56a74a7",
   "metadata": {},
   "outputs": [],
   "source": []
  }
 ],
 "metadata": {
  "kernelspec": {
   "display_name": "Python [conda env:base] *",
   "language": "python",
   "name": "conda-base-py"
  },
  "language_info": {
   "codemirror_mode": {
    "name": "ipython",
    "version": 3
   },
   "file_extension": ".py",
   "mimetype": "text/x-python",
   "name": "python",
   "nbconvert_exporter": "python",
   "pygments_lexer": "ipython3",
   "version": "3.13.5"
  }
 },
 "nbformat": 4,
 "nbformat_minor": 5
}
